{
 "cells": [
  {
   "cell_type": "code",
   "execution_count": 7,
   "metadata": {},
   "outputs": [
    {
     "name": "stdout",
     "output_type": "stream",
     "text": [
      "2550\n"
     ]
    }
   ],
   "source": [
    "# Action1：求2+4+6+8+...+100的求和，用Python该如何写\n",
    "a=2\n",
    "sum = 0\n",
    "while a<101:\n",
    " sum=sum+a\n",
    " a=a+2\n",
    "print(sum)"
   ]
  },
  {
   "cell_type": "code",
   "execution_count": 46,
   "metadata": {},
   "outputs": [
    {
     "name": "stdout",
     "output_type": "stream",
     "text": [
      "[  2   4   6   8  10  12  14  16  18  20  22  24  26  28  30  32  34  36\n",
      "  38  40  42  44  46  48  50  52  54  56  58  60  62  64  66  68  70  72\n",
      "  74  76  78  80  82  84  86  88  90  92  94  96  98 100]\n",
      "2550\n"
     ]
    }
   ],
   "source": [
    "import numpy as np\n",
    "arange=np.arange(2,101,2)\n",
    "sum=np.sum(arange)\n",
    "print(arange)\n",
    "print(sum)"
   ]
  },
  {
   "cell_type": "code",
   "execution_count": 97,
   "metadata": {},
   "outputs": [
    {
     "name": "stdout",
     "output_type": "stream",
     "text": [
      "             语文         数学         英语\n",
      "mean  86.200000  81.000000  76.600000\n",
      "max   98.000000  90.000000  98.000000\n",
      "min   68.000000  65.000000  30.000000\n",
      "std   12.255611  10.440307  27.107195\n"
     ]
    },
    {
     "data": {
      "text/html": [
       "<div>\n",
       "<style scoped>\n",
       "    .dataframe tbody tr th:only-of-type {\n",
       "        vertical-align: middle;\n",
       "    }\n",
       "\n",
       "    .dataframe tbody tr th {\n",
       "        vertical-align: top;\n",
       "    }\n",
       "\n",
       "    .dataframe thead th {\n",
       "        text-align: right;\n",
       "    }\n",
       "</style>\n",
       "<table border=\"1\" class=\"dataframe\">\n",
       "  <thead>\n",
       "    <tr style=\"text-align: right;\">\n",
       "      <th></th>\n",
       "      <th>语文</th>\n",
       "      <th>数学</th>\n",
       "      <th>英语</th>\n",
       "      <th>总分</th>\n",
       "      <th>名次</th>\n",
       "    </tr>\n",
       "    <tr>\n",
       "      <th>姓名</th>\n",
       "      <th></th>\n",
       "      <th></th>\n",
       "      <th></th>\n",
       "      <th></th>\n",
       "      <th></th>\n",
       "    </tr>\n",
       "  </thead>\n",
       "  <tbody>\n",
       "    <tr>\n",
       "      <th>刘备</th>\n",
       "      <td>98</td>\n",
       "      <td>86</td>\n",
       "      <td>88</td>\n",
       "      <td>272</td>\n",
       "      <td>5.0</td>\n",
       "    </tr>\n",
       "    <tr>\n",
       "      <th>关羽</th>\n",
       "      <td>95</td>\n",
       "      <td>76</td>\n",
       "      <td>98</td>\n",
       "      <td>269</td>\n",
       "      <td>4.0</td>\n",
       "    </tr>\n",
       "    <tr>\n",
       "      <th>许诸</th>\n",
       "      <td>80</td>\n",
       "      <td>90</td>\n",
       "      <td>90</td>\n",
       "      <td>260</td>\n",
       "      <td>3.0</td>\n",
       "    </tr>\n",
       "    <tr>\n",
       "      <th>典韦</th>\n",
       "      <td>90</td>\n",
       "      <td>88</td>\n",
       "      <td>77</td>\n",
       "      <td>255</td>\n",
       "      <td>2.0</td>\n",
       "    </tr>\n",
       "    <tr>\n",
       "      <th>张飞</th>\n",
       "      <td>68</td>\n",
       "      <td>65</td>\n",
       "      <td>30</td>\n",
       "      <td>163</td>\n",
       "      <td>1.0</td>\n",
       "    </tr>\n",
       "  </tbody>\n",
       "</table>\n",
       "</div>"
      ],
      "text/plain": [
       "    语文  数学  英语   总分   名次\n",
       "姓名                      \n",
       "刘备  98  86  88  272  5.0\n",
       "关羽  95  76  98  269  4.0\n",
       "许诸  80  90  90  260  3.0\n",
       "典韦  90  88  77  255  2.0\n",
       "张飞  68  65  30  163  1.0"
      ]
     },
     "execution_count": 97,
     "metadata": {},
     "output_type": "execute_result"
    }
   ],
   "source": [
    "# 统计全班的成绩\n",
    "# 班里有5名同学，现在需要你用Python来统计下这些人在语文、英语、数学中的平均成绩、最小成绩、最大成绩、方差、标准差。然后把这些人的总成绩排序，得出名次进行成绩输出（可以用numpy或pandas）\n",
    "# coding=utf-8\n",
    "import pandas as pd\n",
    "data = {'语文': [68, 95, 98, 90, 80], '数学': [65, 76, 86, 88, 90], '英语': [30, 98, 88, 77, 90]}\n",
    "#print(data)\n",
    "df = pd.DataFrame(data,index=['张飞', '关羽', '刘备', '典韦','许诸'])\n",
    "df.index.name='姓名'\n",
    "df1=df.describe().loc[['mean','max','min','std']]\n",
    "print(df1)\n",
    "df['总分']=df.sum(axis=1)\n",
    "df['名次']=df['总分'].rank()\n",
    "df.sort_values('总分',ascending=0)\n"
   ]
  },
  {
   "cell_type": "code",
   "execution_count": 63,
   "metadata": {},
   "outputs": [
    {
     "name": "stdout",
     "output_type": "stream",
     "text": [
      "品牌投诉总数： \n",
      "          count\n",
      "brand         \n",
      "吉利汽车        96\n",
      "一汽马自达       95\n",
      "一汽-大众       52\n",
      "上汽大众        36\n",
      "一汽-大众奥迪     19\n",
      "...        ...\n",
      "开瑞汽车         1\n",
      "天津一汽         1\n",
      "凯翼汽车         1\n",
      "奇瑞新能源        1\n",
      "东风风行         1\n",
      "\n",
      "[75 rows x 1 columns]\n",
      "车型投诉总数： \n",
      "            count\n",
      "car_model       \n",
      "阿特兹           75\n",
      "星越            43\n",
      "速腾            22\n",
      "马自达CX-4       20\n",
      "博越            13\n",
      "...          ...\n",
      "悦翔             1\n",
      "捷豹XEL          1\n",
      "捷豹XFL          1\n",
      "撼路者            1\n",
      "高尔夫（进口）        1\n",
      "\n",
      "[212 rows x 1 columns]\n",
      "平均车型投诉最多的品牌： \n",
      "             count\n",
      "brand            \n",
      "一汽马自达   47.500000\n",
      "吉利汽车     9.600000\n",
      "一汽-大众    8.666667\n",
      "一汽大众     6.000000\n",
      "广汽丰田     5.666667\n",
      "...           ...\n",
      "宝马（进口）   1.000000\n",
      "凯翼汽车     1.000000\n",
      "一汽吉林     1.000000\n",
      "广汽乘用车    1.000000\n",
      "东南汽车     1.000000\n",
      "\n",
      "[75 rows x 1 columns]\n"
     ]
    }
   ],
   "source": [
    "# 对汽车投诉信息进行分析 \n",
    "\n",
    "#Step1，数据加载\n",
    "import pandas as pd\n",
    "result = pd.read_csv('car_data_analyze/car_complain.csv')\n",
    "#print(result)\n",
    "\n",
    "\n",
    "#Step2，数据预处理   拆分problem类型 => 多个字段\n",
    "result = result.drop('problem', 1).join(result.problem.str.get_dummies(','))\n",
    "#print(result)\n",
    "\n",
    "#Step3，数据统计     对数据进行探索：品牌投诉总数，车型投诉总数 哪个品牌的平均车型投诉最多\n",
    "df= result.groupby(['brand'])['id'].agg(['count']).sort_values('count',ascending=0)\n",
    "print('品牌投诉总数：','\\n',df)\n",
    "df2= result.groupby(['car_model'])['id'].agg(['count']).sort_values('count',ascending=0)\n",
    "print('车型投诉总数：','\\n',df2)\n",
    "df3= result.groupby(['brand','car_model'])['id'].agg(['count']).groupby(['brand']).mean().sort_values('count',ascending=0)\n",
    "print('平均车型投诉最多的品牌：','\\n',df3)\n",
    "\n",
    "\n"
   ]
  },
  {
   "cell_type": "code",
   "execution_count": null,
   "metadata": {},
   "outputs": [],
   "source": []
  },
  {
   "cell_type": "code",
   "execution_count": null,
   "metadata": {},
   "outputs": [],
   "source": []
  }
 ],
 "metadata": {
  "kernelspec": {
   "display_name": "Python 3",
   "language": "python",
   "name": "python3"
  },
  "language_info": {
   "codemirror_mode": {
    "name": "ipython",
    "version": 3
   },
   "file_extension": ".py",
   "mimetype": "text/x-python",
   "name": "python",
   "nbconvert_exporter": "python",
   "pygments_lexer": "ipython3",
   "version": "3.7.1"
  }
 },
 "nbformat": 4,
 "nbformat_minor": 4
}
